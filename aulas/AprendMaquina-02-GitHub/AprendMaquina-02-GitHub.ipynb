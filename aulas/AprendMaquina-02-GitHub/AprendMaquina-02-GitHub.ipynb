{
  "cells": [
    {
      "cell_type": "raw",
      "metadata": {},
      "source": [
        "---\n",
        "title: \"Usando Git e GitHub com RStudio\"\n",
        "author: \"Prof. Dr. Sadraque E. F. Lucena\"\n",
        "lang: pt         # Língua: português\n",
        "format: pdf\n",
        "bibliography: referencias.bib\n",
        "df-print: paged  # Como data frames aparecem no documento\n",
        "                 # opções: \"default\", \"kable\", \"tibble\" e \"paged\"\n",
        "csl: abnt.csl    # referências no formato da ABNT\n",
        "---"
      ],
      "id": "58379f8c"
    },
    {
      "cell_type": "markdown",
      "metadata": {},
      "source": [
        "## Git\n",
        "\n",
        "- Sistema aberto de controle de versão amplamente utilizado para rastrear alterações em arquivos e colaborar no desenvolvimento de projetos.\n",
        "- Foi desenvolvido originalmente em 2005 por Linus Torvalds, criador do kernel do sistema operacional Linux.\n",
        "\n",
        "## GitHub\n",
        "\n",
        "- Plataforma mais popular de hospedagem de código para controle de versão e colaboração. \n",
        "- Permite que você e outras pessoas trabalhem em conjunto em projetos de qualquer lugar.\n",
        "- Para usar o GitHub você precisa ter uma conta e acesso à internet.\n",
        "- Para criar uma conta, acesse: <https://github.com/>.\n",
        "\n",
        "## Glossário\n",
        "\n",
        "- **Repositório:** é como uma pasta de projetos que contém todos os arquivos do projeto e seu histórico de revisões. Pode ser compartilhado com colaboradores e configurado como público ou privado.\n",
        "\n",
        "  - **repositório local:** pasta na sua máquina local;\n",
        "  - **repositório na núvem:** pasta no GitHub.\n",
        "\n",
        "- **Commit:** é uma versão dos arquivos (código). Cada commit representa um ponto específico na história do projeto e ajuda a controlar o progresso e as alterações ao longo do tempo.\n",
        "\n",
        "## Download\n",
        "\n",
        "- Acesse: <https://git-scm.com/downloads>;\n",
        "- Escolha o sistema operacional e instale.\n",
        "\n",
        "## Requisitos\n",
        "\n",
        "- R e Rstudio instalados;\n",
        "- Git instalado;\n",
        "- Ter uma conta no GitHub.\n",
        "\n",
        "## Verificando se o Git está instalado\n",
        "\n",
        "No *Terminal* do RStudio, digite `which git` para solicitar o caminho para o seu executável do Git.\n",
        "\n",
        "\n",
        "````{verbatim, lang = \"markdown\"}\n",
        "which git\n",
        "## /usr/bin/git\n",
        "````\n",
        "\n",
        "\n",
        "\n",
        "  - Abra o terminal (no Windows clique no botão iniciar, digite ***cmd*** e aperte ***enter***);\n",
        "  - Digite ***git --help***;\n",
        "\t- Se o Git estiver instalado, você verá uma lista de comandos para usar com Git.\n",
        "\n",
        "\n",
        "# Criando um repositório"
      ],
      "id": "720b76f8"
    }
  ],
  "metadata": {
    "kernelspec": {
      "display_name": "Python 3",
      "language": "python",
      "name": "python3"
    }
  },
  "nbformat": 4,
  "nbformat_minor": 5
}